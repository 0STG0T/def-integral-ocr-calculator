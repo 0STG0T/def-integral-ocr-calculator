{
 "cells": [
  {
   "cell_type": "code",
   "execution_count": 1,
   "metadata": {},
   "outputs": [],
   "source": [
    "from latex2sympy2 import latex2sympy, latex2latex"
   ]
  },
  {
   "cell_type": "markdown",
   "metadata": {},
   "source": [
    "OCR"
   ]
  },
  {
   "cell_type": "code",
   "execution_count": 30,
   "metadata": {},
   "outputs": [],
   "source": [
    "! pip install texify -q"
   ]
  },
  {
   "cell_type": "code",
   "execution_count": 2,
   "metadata": {},
   "outputs": [],
   "source": [
    "from PIL import Image"
   ]
  },
  {
   "cell_type": "code",
   "execution_count": 3,
   "metadata": {},
   "outputs": [
    {
     "data": {
      "image/png": "[encoded data removed]",
      "text/plain": [
       "<PIL.PngImagePlugin.PngImageFile image mode=RGBA size=578x174>"
      ]
     },
     "execution_count": 3,
     "metadata": {},
     "output_type": "execute_result"
    }
   ],
   "source": [
    "img = Image.open('../output.png')\n",
    "img"
   ]
  },
  {
   "cell_type": "code",
   "execution_count": 4,
   "metadata": {},
   "outputs": [
    {
     "name": "stderr",
     "output_type": "stream",
     "text": [
      "/Users/asgatakmaev/miniconda3/envs/geoanalytics/lib/python3.11/site-packages/tqdm/auto.py:21: TqdmWarning: IProgress not found. Please update jupyter and ipywidgets. See https://ipywidgets.readthedocs.io/en/stable/user_install.html\n",
      "  from .autonotebook import tqdm as notebook_tqdm\n"
     ]
    },
    {
     "name": "stdout",
     "output_type": "stream",
     "text": [
      "\\textstyle\\int_{-2}^{3}(x^{2}-3)\\,Q x\n"
     ]
    }
   ],
   "source": [
    "from pix2tex import cli as pix2tex\n",
    "from PIL import Image\n",
    "model1 = pix2tex.LatexOCR()\n",
    "\n",
    "ltx = model1(img=img)\n",
    "print(ltx)"
   ]
  },
  {
   "cell_type": "code",
   "execution_count": 5,
   "metadata": {},
   "outputs": [
    {
     "ename": "NameError",
     "evalue": "name 'plt' is not defined",
     "output_type": "error",
     "traceback": [
      "\u001b[0;31m---------------------------------------------------------------------------\u001b[0m",
      "\u001b[0;31mNameError\u001b[0m                                 Traceback (most recent call last)",
      "Cell \u001b[0;32mIn[5], line 2\u001b[0m\n\u001b[1;32m      1\u001b[0m a \u001b[38;5;241m=\u001b[39m \u001b[38;5;124mrf\u001b[39m\u001b[38;5;124m'\u001b[39m\u001b[38;5;132;01m{\u001b[39;00mltx\u001b[38;5;132;01m}\u001b[39;00m\u001b[38;5;124m'\u001b[39m\n\u001b[0;32m----> 2\u001b[0m ax \u001b[38;5;241m=\u001b[39m \u001b[43mplt\u001b[49m\u001b[38;5;241m.\u001b[39maxes([\u001b[38;5;241m0\u001b[39m,\u001b[38;5;241m0\u001b[39m,\u001b[38;5;241m0.3\u001b[39m,\u001b[38;5;241m0.3\u001b[39m]) \u001b[38;5;66;03m#left,bottom,width,height\u001b[39;00m\n\u001b[1;32m      3\u001b[0m ax\u001b[38;5;241m.\u001b[39mset_xticks([])\n\u001b[1;32m      4\u001b[0m ax\u001b[38;5;241m.\u001b[39mset_yticks([])\n",
      "\u001b[0;31mNameError\u001b[0m: name 'plt' is not defined"
     ]
    }
   ],
   "source": [
    "import matplotlib.pyplot as plt\n",
    "\n",
    "a = rf'{ltx}'\n",
    "ax = plt.axes([0,0,0.3,0.3]) #left,bottom,width,height\n",
    "ax.set_xticks([])\n",
    "ax.set_yticks([])\n",
    "ax.axis('off')\n",
    "plt.text(0.4,0.4,'$%s$' %a,size=50,color=\"green\")\n",
    "plt.savefig('./temp/sss.png')"
   ]
  },
  {
   "cell_type": "code",
   "execution_count": 17,
   "metadata": {},
   "outputs": [
    {
     "data": {
      "text/plain": [
       "<Figure size 640x480 with 0 Axes>"
      ]
     },
     "metadata": {},
     "output_type": "display_data"
    }
   ],
   "source": []
  },
  {
   "cell_type": "markdown",
   "metadata": {},
   "source": [
    "Integration"
   ]
  },
  {
   "cell_type": "code",
   "execution_count": 68,
   "metadata": {},
   "outputs": [],
   "source": [
    "from latex2sympy2 import latex2sympy\n",
    "import sympy as sp\n",
    "import numpy as np\n",
    "\n",
    "class IntegralCalculator:\n",
    "    def __init__(self, integral_str):\n",
    "\n",
    "        self.lower_limit, self.upper_limit, self.function = self._parse_integral_input(integral_str)\n",
    "        x = sp.symbols('x')\n",
    "        self.function_lambda = sp.lambdify(x, self.function, 'numpy')\n",
    "        self.x = x  \n",
    "\n",
    "    def _parse_integral_input(self, integral_str):\n",
    "        # Convert LaTeX to sympy expression\n",
    "        integral_expr = latex2sympy(integral_str, {\"integrate\": False})\n",
    "        \n",
    "        lower_limit = integral_expr.limits[0][1]\n",
    "        upper_limit = integral_expr.limits[0][2]\n",
    "        function = integral_expr.function\n",
    "        \n",
    "        return float(lower_limit), float(upper_limit), function\n",
    "\n",
    "    def integrate_by_squares(self, n):\n",
    "        h = (self.upper_limit - self.lower_limit) / n\n",
    "        result = 0\n",
    "        for i in range(n):\n",
    "            midpoint = self.lower_limit + (i + 0.5) * h\n",
    "            result += self.function_lambda(midpoint)\n",
    "        return result * h\n",
    "\n",
    "    def integrate_by_trapezoids(self, n):\n",
    "        h = (self.upper_limit - self.lower_limit) / n\n",
    "        result = (self.function_lambda(self.lower_limit) + self.function_lambda(self.upper_limit)) / 2\n",
    "        for i in range(1, n):\n",
    "            result += self.function_lambda(self.lower_limit + i * h)\n",
    "        return result * h\n",
    "\n",
    "    def integrate_by_parabolic(self, n):\n",
    "        if n % 2 == 1:\n",
    "            n += 1  \n",
    "        h = (self.upper_limit - self.lower_limit) / n\n",
    "        result = self.function_lambda(self.lower_limit) + self.function_lambda(self.upper_limit)\n",
    "        for i in range(1, n):\n",
    "            factor = 4 if i % 2 == 1 else 2\n",
    "            result += factor * self.function_lambda(self.lower_limit + i * h)\n",
    "        return result * h / 3\n"
   ]
  },
  {
   "cell_type": "code",
   "execution_count": 69,
   "metadata": {},
   "outputs": [
    {
     "data": {
      "text/plain": [
       "'\\\\int_{-2}^{3}(x^{2}-3)\\\\,d x'"
      ]
     },
     "execution_count": 69,
     "metadata": {},
     "output_type": "execute_result"
    }
   ],
   "source": [
    "ltx"
   ]
  },
  {
   "cell_type": "code",
   "execution_count": 70,
   "metadata": {},
   "outputs": [
    {
     "name": "stdout",
     "output_type": "stream",
     "text": [
      "Integral using Midpoint (Squares) method: -3.3333437500000014\n",
      "Integral using Trapezoidal method: -3.333312499999998\n",
      "Integral using Simpson's (Parabolic) method: -3.3333333333333326\n"
     ]
    }
   ],
   "source": [
    "integral_input = ltx\n",
    "calculator = IntegralCalculator(integral_input)\n",
    "n = 1000  \n",
    "print(\"Integral using Midpoint (Squares) method:\", calculator.integrate_by_squares(n))\n",
    "print(\"Integral using Trapezoidal method:\", calculator.integrate_by_trapezoids(n))\n",
    "print(\"Integral using Simpson's (Parabolic) method:\", calculator.integrate_by_parabolic(n))"
   ]
  },
  {
   "cell_type": "code",
   "execution_count": null,
   "metadata": {},
   "outputs": [],
   "source": []
  }
 ],
 "metadata": {
  "kernelspec": {
   "display_name": "geoanalytics",
   "language": "python",
   "name": "python3"
  },
  "language_info": {
   "codemirror_mode": {
    "name": "ipython",
    "version": 3
   },
   "file_extension": ".py",
   "mimetype": "text/x-python",
   "name": "python",
   "nbconvert_exporter": "python",
   "pygments_lexer": "ipython3",
   "version": "3.11.8"
  }
 },
 "nbformat": 4,
 "nbformat_minor": 2
}
